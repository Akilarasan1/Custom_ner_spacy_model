{
  "cells": [
    {
      "cell_type": "code",
      "execution_count": 3,
      "id": "aec2681b-f055-4d59-87f9-602dc5535249",
      "metadata": {
        "id": "aec2681b-f055-4d59-87f9-602dc5535249"
      },
      "outputs": [],
      "source": [
        "import jsonlines\n",
        "import random\n",
        "import spacy\n",
        "from spacy.tokens import DocBin\n",
        "from spacy.util import filter_spans\n",
        "import jsonlines\n",
        "from spacy.scorer import Scorer\n",
        "from spacy.tokens import Doc\n",
        "from spacy.training import Example  # Import the Example class"
      ]
    },
    {
      "cell_type": "code",
      "execution_count": 4,
      "id": "23e5964b-27d7-412f-b498-5aff9cce70ea",
      "metadata": {
        "id": "23e5964b-27d7-412f-b498-5aff9cce70ea"
      },
      "outputs": [],
      "source": [
        "# Path to the original training file\n",
        "train_file_path = r'/content/FindVehicle_train.jsonl'\n",
        "with jsonlines.open(train_file_path) as reader:\n",
        "    records = list(reader)\n",
        "\n",
        "random.shuffle(records)\n",
        "split_index = int(0.8 * len(records))\n",
        "train_records = records[:split_index]\n",
        "dev_records = records[split_index:]\n",
        "\n",
        "# Save the training and validation datasets\n",
        "with jsonlines.open(r\"findvehicle_train_split.jsonl\", mode=\"w\") as writer:\n",
        "    writer.write_all(train_records)\n",
        "\n",
        "with jsonlines.open(r\"findvehicle_dev_split.jsonl\", mode=\"w\") as writer:\n",
        "    writer.write_all(dev_records)"
      ]
    },
    {
      "cell_type": "code",
      "source": [
        "def spacy_vali_tra(dev_file_path,name):\n",
        "    # Load a blank spaCy model\n",
        "    nlp = spacy.blank(\"en\")\n",
        "    dev_doc_bin = DocBin()\n",
        "    with jsonlines.open(dev_file_path) as dev_data:\n",
        "        for record in dev_data:\n",
        "            doc = nlp(record[\"data\"])\n",
        "            entities = []\n",
        "            for ner in record[\"ner_label\"]:\n",
        "                start_char, end_char = ner[1], ner[2]\n",
        "                label = ner[0]\n",
        "                span = doc.char_span(start_char, end_char, label=label)\n",
        "                if span:\n",
        "                    entities.append(span)\n",
        "                else:\n",
        "                    print(f\"Misaligned entity: {ner}\")\n",
        "\n",
        "            # Filter overlapping entities\n",
        "            filtered_entities = filter_spans(entities)\n",
        "            doc.ents = filtered_entities\n",
        "            dev_doc_bin.add(doc)\n",
        "\n",
        "    dev_doc_bin.to_disk(f\"{name}.spacy\")\n",
        "\n",
        "dev = spacy_vali_tra(r\"findvehicle_dev_split.jsonl\",'dev01')\n",
        "train = spacy_vali_tra(r\"findvehicle_train_split.jsonl\", 'train01')"
      ],
      "metadata": {
        "id": "09RsvxkNhtin"
      },
      "id": "09RsvxkNhtin",
      "execution_count": 7,
      "outputs": []
    },
    {
      "cell_type": "code",
      "source": [
        "#generate config.cfg file\n",
        "!python -m spacy init config config.cfg --lang en --pipeline ner"
      ],
      "metadata": {
        "colab": {
          "base_uri": "https://localhost:8080/"
        },
        "id": "tm-vmjbQjEDP",
        "outputId": "67bc92c6-de0e-4e95-c0b6-67f2ae7da865"
      },
      "id": "tm-vmjbQjEDP",
      "execution_count": 10,
      "outputs": [
        {
          "output_type": "stream",
          "name": "stdout",
          "text": [
            "\u001b[38;5;3m⚠ To generate a more effective transformer-based config (GPU-only),\n",
            "install the spacy-transformers package and re-run this command. The config\n",
            "generated now does not use transformers.\u001b[0m\n",
            "\u001b[38;5;4mℹ Generated config template specific for your use case\u001b[0m\n",
            "- Language: en\n",
            "- Pipeline: ner\n",
            "- Optimize for: efficiency\n",
            "- Hardware: CPU\n",
            "- Transformer: None\n",
            "\u001b[38;5;2m✔ Auto-filled config with all values\u001b[0m\n",
            "\u001b[38;5;2m✔ Saved config\u001b[0m\n",
            "config.cfg\n",
            "You can now add your data and train your pipeline:\n",
            "python -m spacy train config.cfg --paths.train ./train.spacy --paths.dev ./dev.spacy\n"
          ]
        }
      ]
    },
    {
      "cell_type": "code",
      "source": [
        "!python -m spacy train config.cfg --output ./output --paths.train ./train01.spacy --paths.dev ./dev01.spacy"
      ],
      "metadata": {
        "colab": {
          "base_uri": "https://localhost:8080/"
        },
        "id": "fVmnXfm7htlg",
        "outputId": "d334e9a4-bcfe-46f7-f0e4-14b14f42e161"
      },
      "id": "fVmnXfm7htlg",
      "execution_count": 14,
      "outputs": [
        {
          "output_type": "stream",
          "name": "stdout",
          "text": [
            "\u001b[38;5;4mℹ Saving to output directory: output\u001b[0m\n",
            "\u001b[38;5;4mℹ Using CPU\u001b[0m\n",
            "\u001b[38;5;4mℹ To switch to GPU 0, use the option: --gpu-id 0\u001b[0m\n",
            "\u001b[1m\n",
            "=========================== Initializing pipeline ===========================\u001b[0m\n",
            "\u001b[38;5;2m✔ Initialized pipeline\u001b[0m\n",
            "\u001b[1m\n",
            "============================= Training pipeline =============================\u001b[0m\n",
            "\u001b[38;5;4mℹ Pipeline: ['tok2vec', 'ner']\u001b[0m\n",
            "\u001b[38;5;4mℹ Initial learn rate: 0.001\u001b[0m\n",
            "E    #       LOSS TOK2VEC  LOSS NER  ENTS_F  ENTS_P  ENTS_R  SCORE \n",
            "---  ------  ------------  --------  ------  ------  ------  ------\n",
            "  0       0          0.00     57.87    0.00    0.00    0.00    0.00\n",
            "  0     200        850.38   4388.68   35.33   43.79   29.60    0.35\n",
            "  0     400        270.51   3618.66   26.58   48.18   18.35    0.27\n",
            "  0     600        200.89   3923.73   46.48   51.15   42.60    0.46\n",
            "  0     800        249.69   4791.18   41.85   51.85   35.08    0.42\n",
            "  0    1000        585.90   5809.85   38.46   50.41   31.09    0.38\n",
            "  0    1200        307.77   6994.49   38.37   51.80   30.47    0.38\n",
            "  0    1400        580.38   8577.39   35.76   51.89   27.28    0.36\n",
            "  0    1600        396.82  10206.67   40.48   51.45   33.37    0.40\n",
            "  0    1800        481.37  12348.38   45.38   51.85   40.34    0.45\n",
            "  0    2000        985.44  14851.26   37.01   50.57   29.18    0.37\n",
            "  1    2200        871.85  17987.73   59.86   51.57   71.33    0.60\n",
            "  1    2400        956.42  21199.28   57.39   50.97   65.66    0.57\n",
            "  1    2600        929.57  21548.34   60.38   51.45   73.05    0.60\n",
            "  2    2800        969.79  21179.08   30.37   49.77   21.85    0.30\n",
            "  2    3000        988.95  21222.94   51.40   50.88   51.93    0.51\n",
            "  2    3200       1145.45  21113.53   46.36   51.57   42.10    0.46\n",
            "  3    3400       1150.57  20490.58   50.43   51.04   49.84    0.50\n",
            "  3    3600       1033.78  20676.39   47.92   51.70   44.65    0.48\n",
            "  3    3800        949.86  20322.29   34.80   52.01   26.14    0.35\n",
            "  4    4000       1064.86  20374.30   58.65   51.47   68.16    0.59\n",
            "  4    4200       1058.58  20335.55   46.07   51.48   41.68    0.46\n",
            "\u001b[38;5;2m✔ Saved pipeline to output directory\u001b[0m\n",
            "output/model-last\n"
          ]
        }
      ]
    },
    {
      "cell_type": "code",
      "source": [
        "\n",
        "# Load the trained model\n",
        "model_path = \"./output/model-best\"\n",
        "nlp = spacy.load(model_path)\n",
        "test_sentences = [ \"I am looking for a red Tesla Model S., hyundai\",\n",
        "    \"The blue Audi Q7 and the black BMW X5 are parked outside.\",\n",
        "    \"I saw a silver Toyota Camry and a white Ford Mustang.\",\n",
        "    \"In the parking lot, there is a yellow Chevrolet Trailblazer and a gray Nissan Rogue.\",\n",
        "    \"Suzuki\"]\n",
        "\n",
        "for sentence in test_sentences:\n",
        "    doc = nlp(sentence)\n",
        "    print(f\"Input: {sentence}\")\n",
        "    if doc.ents:\n",
        "        for ent in doc.ents:\n",
        "            print(f\"  Entity: {ent.text} → Label: {ent.label_}\")\n",
        "    else:\n",
        "        print(\"  No entities detected.\")\n",
        "    print()"
      ],
      "metadata": {
        "colab": {
          "base_uri": "https://localhost:8080/"
        },
        "id": "zP4krSRahtpP",
        "outputId": "6e09f7e3-47d2-4cc6-c8c6-351e1397878a"
      },
      "id": "zP4krSRahtpP",
      "execution_count": 25,
      "outputs": [
        {
          "output_type": "stream",
          "name": "stdout",
          "text": [
            "Input: I am looking for a red Tesla Model S., hyundai\n",
            "  Entity: red → Label: vehicle_color\n",
            "  Entity: Tesla → Label: vehicle_brand\n",
            "  Entity: Model S., hyundai → Label: vehicle_model\n",
            "\n",
            "Input: The blue Audi Q7 and the black BMW X5 are parked outside.\n",
            "  Entity: blue → Label: vehicle_color\n",
            "  Entity: Audi → Label: vehicle_brand\n",
            "  Entity: Q7 → Label: vehicle_model\n",
            "  Entity: black → Label: vehicle_color\n",
            "  Entity: BMW → Label: vehicle_brand\n",
            "  Entity: X5 → Label: vehicle_model\n",
            "  Entity: parked outside → Label: vehicle_color\n",
            "\n",
            "Input: I saw a silver Toyota Camry and a white Ford Mustang.\n",
            "  Entity: silver → Label: vehicle_color\n",
            "  Entity: Toyota → Label: vehicle_brand\n",
            "  Entity: Camry → Label: vehicle_model\n",
            "  Entity: white → Label: vehicle_color\n",
            "  Entity: Ford → Label: vehicle_brand\n",
            "\n",
            "Input: In the parking lot, there is a yellow Chevrolet Trailblazer and a gray Nissan Rogue.\n",
            "  Entity: yellow → Label: vehicle_color\n",
            "  Entity: Chevrolet → Label: vehicle_brand\n",
            "  Entity: Trailblazer → Label: vehicle_model\n",
            "  Entity: gray → Label: vehicle_color\n",
            "  Entity: Nissan → Label: vehicle_brand\n",
            "\n",
            "Input: Suzuki\n",
            "  Entity: Suzuki → Label: vehicle_brand\n",
            "\n"
          ]
        }
      ]
    },
    {
      "cell_type": "code",
      "source": [
        "# Path to the test dataset\n",
        "test_file_path = r'/content/FindVehicle_test.jsonl'\n",
        "test_doc_bin = DocBin()\n",
        "with jsonlines.open(test_file_path) as test_data:\n",
        "    for record in test_data:\n",
        "        doc = nlp.make_doc(record[\"data\"])\n",
        "        entities = []\n",
        "        for ner in record[\"ner_label\"]:\n",
        "            start_char, end_char = ner[1], ner[2]  # Character-level spans\n",
        "            label = ner[0]  # Entity label\n",
        "            span = doc.char_span(start_char, end_char, label=label)\n",
        "            if span:\n",
        "                entities.append(span)\n",
        "            else:\n",
        "                print(f\"Misaligned entity: {ner}\")\n",
        "\n",
        "        filtered_entities = filter_spans(entities)\n",
        "        doc.ents = filtered_entities\n",
        "        test_doc_bin.add(doc)\n",
        "test_doc_bin.to_disk(\"test.spacy\")"
      ],
      "metadata": {
        "id": "W8xG1Okzhtso"
      },
      "id": "W8xG1Okzhtso",
      "execution_count": 26,
      "outputs": []
    },
    {
      "cell_type": "code",
      "source": [
        "# test the dataset\n",
        "test_docs = list(test_doc_bin.get_docs(nlp.vocab))\n",
        "scorer = Scorer()\n",
        "examples = []\n",
        "for doc in test_docs:\n",
        "    pred_doc = nlp(doc.text)\n",
        "    example = Example(pred_doc, doc)\n",
        "    examples.append(example)\n",
        "\n",
        "# Evaluate using the Scorer and capture the results\n",
        "results = scorer.score(examples)"
      ],
      "metadata": {
        "id": "nfKxsihshtva"
      },
      "id": "nfKxsihshtva",
      "execution_count": 27,
      "outputs": []
    },
    {
      "cell_type": "code",
      "source": [
        "# Print evaluation metrics\n",
        "print(\"Precision:\", results[\"ents_p\"])\n",
        "print(\"Recall:\", results[\"ents_r\"])\n",
        "print(\"F1-score:\", results[\"ents_f\"])\n",
        "print()\n",
        "print(\"Per-entity scores:\", results[\"ents_per_type\"])"
      ],
      "metadata": {
        "colab": {
          "base_uri": "https://localhost:8080/"
        },
        "id": "UB58HzwNhtyC",
        "outputId": "f5bedb38-cbd1-49ab-d201-9ffc51e34987"
      },
      "id": "UB58HzwNhtyC",
      "execution_count": 28,
      "outputs": [
        {
          "output_type": "stream",
          "name": "stdout",
          "text": [
            "Precision: 0.5116991964916836\n",
            "Recall: 0.7289288466478294\n",
            "F1-score: 0.6012959439243624\n",
            "\n",
            "Per-entity scores: {'vehicle_color': {'p': 0.5212104386451971, 'r': 0.9981391886862672, 'f': 0.6848200769665688}, 'vehicle_type': {'p': 1.0, 'r': 1.0, 'f': 1.0}, 'vehicle_location': {'p': 0.5107361963190185, 'r': 0.9975659988766149, 'f': 0.6755848602041463}, 'vehicle_orientation': {'p': 0.5342825406442492, 'r': 0.8809523809523809, 'f': 0.6651580866176378}, 'vehicle_velocity': {'p': 0.5148075534000619, 'r': 0.6252663241007645, 'f': 0.5646859083191851}, 'vehicle_range': {'p': 1.0, 'r': 1.0, 'f': 1.0}, 'vehicle_brand': {'p': 0.49818945538818077, 'r': 0.7874763894453666, 'f': 0.610286778894138}, 'vehicle_model': {'p': 0.49542351846106114, 'r': 0.7311544845744377, 'f': 0.5906369205872153}, 'vehicle_type-suv': {'p': 0.3696969696969697, 'r': 0.024053627760252366, 'f': 0.04516845612736023}, 'vehicle_type-sedan': {'p': 0.40350877192982454, 'r': 0.012554585152838428, 'f': 0.02435150873478031}, 'vehicle_type-hatchback': {'p': 0.41379310344827586, 'r': 0.05626255860683188, 'f': 0.09905660377358491}, 'vehicle_type-sports_car': {'p': 0.4375, 'r': 0.004469987228607918, 'f': 0.008849557522123894}, 'vehicle_type-coupe': {'p': 0.43217665615141954, 'r': 0.294940796555436, 'f': 0.3506078055022393}, 'vehicle_type-bus': {'p': 0.3716216216216216, 'r': 0.12331838565022421, 'f': 0.18518518518518517}, 'vehicle_type-vintage_car': {'p': 0.0, 'r': 0.0, 'f': 0.0}, 'vehicle_type-motorcycle': {'p': 0.4836332104920876, 'r': 0.9173519736842105, 'f': 0.6333569907735983}, 'vehicle_type-truck': {'p': 0.4158415841584158, 'r': 0.20023837902264602, 'f': 0.27031375703942073}, 'vehicle_type-roadster': {'p': 0.26785714285714285, 'r': 0.044642857142857144, 'f': 0.07653061224489796}, 'vehicle_type-van': {'p': 0.3560606060606061, 'r': 0.0766721044045677, 'f': 0.1261744966442953}, 'vehicle_type-mpv': {'p': 0.35714285714285715, 'r': 0.008802816901408451, 'f': 0.01718213058419244}, 'vehicle_type-estate_car': {'p': 0.12832550860719874, 'r': 0.17558886509635974, 'f': 0.14828209764918626}}\n"
          ]
        }
      ]
    },
    {
      "cell_type": "code",
      "source": [
        "!python -m spacy evaluate ./output/model-best ./test.spacy"
      ],
      "metadata": {
        "colab": {
          "base_uri": "https://localhost:8080/"
        },
        "id": "Pb9gGn_Iht0q",
        "outputId": "fd9eacd0-0f53-43c8-f15a-263bb38e5d09"
      },
      "id": "Pb9gGn_Iht0q",
      "execution_count": 29,
      "outputs": [
        {
          "output_type": "stream",
          "name": "stdout",
          "text": [
            "\u001b[38;5;4mℹ Using CPU\u001b[0m\n",
            "\u001b[38;5;4mℹ To switch to GPU 0, use the option: --gpu-id 0\u001b[0m\n",
            "\u001b[1m\n",
            "================================== Results ==================================\u001b[0m\n",
            "\n",
            "TOK     100.00\n",
            "NER P   51.17 \n",
            "NER R   72.89 \n",
            "NER F   60.13 \n",
            "SPEED   28676 \n",
            "\n",
            "\u001b[1m\n",
            "=============================== NER (per type) ===============================\u001b[0m\n",
            "\n",
            "                                P        R        F\n",
            "vehicle_color               52.12    99.81    68.48\n",
            "vehicle_type               100.00   100.00   100.00\n",
            "vehicle_location            51.07    99.76    67.56\n",
            "vehicle_orientation         53.43    88.10    66.52\n",
            "vehicle_velocity            51.48    62.53    56.47\n",
            "vehicle_range              100.00   100.00   100.00\n",
            "vehicle_brand               49.82    78.75    61.03\n",
            "vehicle_model               49.54    73.12    59.06\n",
            "vehicle_type-suv            36.97     2.41     4.52\n",
            "vehicle_type-sedan          40.35     1.26     2.44\n",
            "vehicle_type-hatchback      41.38     5.63     9.91\n",
            "vehicle_type-sports_car     43.75     0.45     0.88\n",
            "vehicle_type-coupe          43.22    29.49    35.06\n",
            "vehicle_type-bus            37.16    12.33    18.52\n",
            "vehicle_type-vintage_car     0.00     0.00     0.00\n",
            "vehicle_type-motorcycle     48.36    91.74    63.34\n",
            "vehicle_type-truck          41.58    20.02    27.03\n",
            "vehicle_type-roadster       26.79     4.46     7.65\n",
            "vehicle_type-van            35.61     7.67    12.62\n",
            "vehicle_type-mpv            35.71     0.88     1.72\n",
            "vehicle_type-estate_car     12.83    17.56    14.83\n",
            "\n"
          ]
        }
      ]
    },
    {
      "cell_type": "code",
      "source": [],
      "metadata": {
        "id": "hXT8cEBzht3S"
      },
      "id": "hXT8cEBzht3S",
      "execution_count": null,
      "outputs": []
    },
    {
      "cell_type": "code",
      "source": [],
      "metadata": {
        "id": "KGuPnlSEht6H"
      },
      "id": "KGuPnlSEht6H",
      "execution_count": null,
      "outputs": []
    },
    {
      "cell_type": "code",
      "source": [],
      "metadata": {
        "id": "ccc7ZjG8ht9d"
      },
      "id": "ccc7ZjG8ht9d",
      "execution_count": null,
      "outputs": []
    }
  ],
  "metadata": {
    "kernelspec": {
      "display_name": "Python 3",
      "name": "python3"
    },
    "language_info": {
      "name": ""
    },
    "colab": {
      "provenance": [],
      "toc_visible": true,
      "gpuType": "T4"
    },
    "accelerator": "GPU"
  },
  "nbformat": 4,
  "nbformat_minor": 5
}